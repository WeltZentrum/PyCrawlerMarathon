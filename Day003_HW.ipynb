{
 "cells": [
  {
   "cell_type": "markdown",
   "metadata": {},
   "source": [
    "# Python 下載XML檔案與解析\n",
    "\n",
    "\n",
    "* 了解 xml 檔案格式與內容\n",
    "* 能夠利用套件存取 xml 格式的檔案\n"
   ]
  },
  {
   "cell_type": "markdown",
   "metadata": {},
   "source": [
    "## 作業目標\n",
    "\n",
    "* 比較一下範例檔案中的「File I/O」與「xmltodict」讀出來的內容有什麼差異\n",
    "\n",
    "* 根據範例檔案的結果：\n",
    "    1. 請問高雄市有多少地區有溫度資料？\n",
    "    2. 請取出每一個地區所記錄的第一個時間點跟溫度\n",
    "    3. 請取出第一個地區所記錄的每一個時間點跟溫度"
   ]
  },
  {
   "cell_type": "markdown",
   "metadata": {},
   "source": [
    "### 比較一下範例檔案中的「File I/O」與「xmltodict」讀出來的內容有什麼差異\n"
   ]
  },
  {
   "cell_type": "code",
   "execution_count": null,
   "metadata": {},
   "outputs": [],
   "source": [
    "'''\n",
    "Your Code\n",
    "'''\n",
    "import urllib.request\n",
    "import zipfile\n",
    "\n",
    "#下載資料，存到 ./Data 資料夾\n",
    "res = \"http://opendata.cwb.gov.tw/govdownload?dataid=F-D0047-093&authorizationkey=rdec-key-123-45678-011121314\"\n",
    "urllib.request.urlretrieve(res, \"./data/example.zip\")\n",
    "f = zipfile.ZipFile('./Data/example.zip')\n",
    "f.extractall('./data')\n"
   ]
  },
  {
   "cell_type": "code",
   "execution_count": 9,
   "metadata": {},
   "outputs": [
    {
     "name": "stdout",
     "output_type": "stream",
     "text": [
      "臺灣各縣市鄉鎮未來3天(72小時)逐3小時天氣預報\n",
      "臺灣各縣市鄉鎮未來3天(72小時)逐3小時天氣預報\n"
     ]
    }
   ],
   "source": [
    "import xmltodict\n",
    "\n",
    "\n",
    "with open('./data/64_72hr_CH.xml', 'r', encoding='UTF-8') as data:\n",
    "    f = data.read()\n",
    "    \n",
    "print(f[418:443])\n",
    "\n",
    "d = dict(xmltodict.parse(f))\n",
    "# 取出 datasetDescription\n",
    "datasetDescription = d['cwbopendata']['dataset']['datasetInfo']['datasetDescription']\n",
    "print(datasetDescription)"
   ]
  },
  {
   "cell_type": "markdown",
   "metadata": {},
   "source": [
    "ANS：File I/O 讀取檔案還需要對資料進行整理，xmltodict則可直接建立一個dict資料類型。"
   ]
  },
  {
   "cell_type": "markdown",
   "metadata": {},
   "source": [
    "### 根據範例檔案的結果：\n",
    "\n",
    "1. 請問高雄市有多少地區有溫度資料？\n",
    "2. 請取出每一個地區所記錄的第一個時間點跟溫度\n",
    "3. 請取出第一個地區所記錄的每一個時間點跟溫度"
   ]
  },
  {
   "cell_type": "code",
   "execution_count": 13,
   "metadata": {},
   "outputs": [
    {
     "name": "stdout",
     "output_type": "stream",
     "text": [
      "38 個地區\n"
     ]
    }
   ],
   "source": [
    "# 1. 請問高雄市有多少地區有溫度資料？\n",
    "\n",
    "'''\n",
    "Your Code\n",
    "'''\n",
    "import xmltodict\n",
    "\n",
    "d = dict(xmltodict.parse(f))\n",
    "\n",
    "#取出高雄市溫度資料\n",
    "locations = d['cwbopendata']['dataset']['locations']\n",
    "location = locations['location']\n",
    "\n",
    "xtemp = 0\n",
    "yNo = 0\n",
    "for i in location:\n",
    "    yNo += 1\n",
    "    for x in i[\"weatherElement\"]:\n",
    "        if x[\"description\"] == \"溫度\":\n",
    "            xtemp += 1\n",
    "            #print(l['locationName'])\n",
    "\n",
    "print(xtemp, \"個地區\")"
   ]
  },
  {
   "cell_type": "code",
   "execution_count": 15,
   "metadata": {},
   "outputs": [
    {
     "name": "stdout",
     "output_type": "stream",
     "text": [
      "1 鹽埕區 32 2020-06-10T12:00:00+08:00\n",
      "2 鼓山區 32 2020-06-10T12:00:00+08:00\n",
      "3 左營區 32 2020-06-10T12:00:00+08:00\n",
      "4 楠梓區 33 2020-06-10T12:00:00+08:00\n",
      "5 三民區 32 2020-06-10T12:00:00+08:00\n",
      "6 新興區 33 2020-06-10T12:00:00+08:00\n",
      "7 前金區 32 2020-06-10T12:00:00+08:00\n",
      "8 苓雅區 33 2020-06-10T12:00:00+08:00\n",
      "9 前鎮區 33 2020-06-10T12:00:00+08:00\n",
      "10 旗津區 32 2020-06-10T12:00:00+08:00\n",
      "11 小港區 33 2020-06-10T12:00:00+08:00\n",
      "12 鳳山區 34 2020-06-10T12:00:00+08:00\n",
      "13 林園區 33 2020-06-10T12:00:00+08:00\n",
      "14 大寮區 34 2020-06-10T12:00:00+08:00\n",
      "15 大樹區 34 2020-06-10T12:00:00+08:00\n",
      "16 大社區 34 2020-06-10T12:00:00+08:00\n",
      "17 仁武區 33 2020-06-10T12:00:00+08:00\n",
      "18 鳥松區 34 2020-06-10T12:00:00+08:00\n",
      "19 岡山區 33 2020-06-10T12:00:00+08:00\n",
      "20 橋頭區 34 2020-06-10T12:00:00+08:00\n",
      "21 燕巢區 33 2020-06-10T12:00:00+08:00\n",
      "22 田寮區 33 2020-06-10T12:00:00+08:00\n",
      "23 阿蓮區 33 2020-06-10T12:00:00+08:00\n",
      "24 路竹區 33 2020-06-10T12:00:00+08:00\n",
      "25 湖內區 32 2020-06-10T12:00:00+08:00\n",
      "26 茄萣區 32 2020-06-10T12:00:00+08:00\n",
      "27 永安區 32 2020-06-10T12:00:00+08:00\n",
      "28 彌陀區 31 2020-06-10T12:00:00+08:00\n",
      "29 梓官區 33 2020-06-10T12:00:00+08:00\n",
      "30 旗山區 34 2020-06-10T12:00:00+08:00\n",
      "31 美濃區 34 2020-06-10T12:00:00+08:00\n",
      "32 六龜區 34 2020-06-10T12:00:00+08:00\n",
      "33 甲仙區 34 2020-06-10T12:00:00+08:00\n",
      "34 杉林區 35 2020-06-10T12:00:00+08:00\n",
      "35 內門區 33 2020-06-10T12:00:00+08:00\n",
      "36 茂林區 34 2020-06-10T12:00:00+08:00\n",
      "37 桃源區 30 2020-06-10T12:00:00+08:00\n",
      "38 那瑪夏區 28 2020-06-10T12:00:00+08:00\n"
     ]
    }
   ],
   "source": [
    "# 2. 請取出每一個地區所記錄的第一個時間點跟溫度\n",
    "\n",
    "'''\n",
    "Your Code\n",
    "'''\n",
    "\n",
    "Number = 0\n",
    "for i in location:\n",
    "    Number += 1\n",
    "    for x in i[\"weatherElement\"]:\n",
    "        if x[\"description\"] == \"溫度\":\n",
    "            print(Number, i[\"locationName\"], x[\"time\"][0][\"elementValue\"][\"value\"], x[\"time\"][0][\"dataTime\"])"
   ]
  },
  {
   "cell_type": "code",
   "execution_count": 16,
   "metadata": {},
   "outputs": [
    {
     "name": "stdout",
     "output_type": "stream",
     "text": [
      "1 鹽埕區 32 2020-06-10T12:00:00+08:00\n",
      "1 鹽埕區 32 2020-06-10T15:00:00+08:00\n",
      "1 鹽埕區 31 2020-06-10T18:00:00+08:00\n",
      "1 鹽埕區 29 2020-06-10T21:00:00+08:00\n",
      "1 鹽埕區 28 2020-06-11T00:00:00+08:00\n",
      "1 鹽埕區 28 2020-06-11T03:00:00+08:00\n",
      "1 鹽埕區 27 2020-06-11T06:00:00+08:00\n",
      "1 鹽埕區 30 2020-06-11T09:00:00+08:00\n",
      "1 鹽埕區 32 2020-06-11T12:00:00+08:00\n",
      "1 鹽埕區 32 2020-06-11T15:00:00+08:00\n",
      "1 鹽埕區 30 2020-06-11T18:00:00+08:00\n",
      "1 鹽埕區 29 2020-06-11T21:00:00+08:00\n",
      "1 鹽埕區 28 2020-06-12T00:00:00+08:00\n",
      "1 鹽埕區 27 2020-06-12T03:00:00+08:00\n",
      "1 鹽埕區 27 2020-06-12T06:00:00+08:00\n",
      "1 鹽埕區 31 2020-06-12T09:00:00+08:00\n",
      "1 鹽埕區 34 2020-06-12T12:00:00+08:00\n",
      "1 鹽埕區 34 2020-06-12T15:00:00+08:00\n",
      "1 鹽埕區 32 2020-06-12T18:00:00+08:00\n",
      "1 鹽埕區 30 2020-06-12T21:00:00+08:00\n",
      "1 鹽埕區 29 2020-06-13T00:00:00+08:00\n",
      "1 鹽埕區 28 2020-06-13T03:00:00+08:00\n",
      "1 鹽埕區 27 2020-06-13T06:00:00+08:00\n",
      "1 鹽埕區 31 2020-06-13T09:00:00+08:00\n"
     ]
    }
   ],
   "source": [
    "# 3. 請取出第一個地區所記錄的每一個時間點跟溫度\n",
    "\n",
    "'''\n",
    "Your Code\n",
    "'''\n",
    "Number = 0\n",
    "for i in location:\n",
    "    Number += 1\n",
    "    if (Number > 1):\n",
    "        break\n",
    "    for x in i[\"weatherElement\"]:\n",
    "        if x[\"description\"] == \"溫度\":\n",
    "            for t in x[\"time\"]:\n",
    "                    print(Number, i[\"locationName\"], t[\"elementValue\"][\"value\"], t[\"dataTime\"])         "
   ]
  }
 ],
 "metadata": {
  "kernelspec": {
   "display_name": "Python 3",
   "language": "python",
   "name": "python3"
  },
  "language_info": {
   "codemirror_mode": {
    "name": "ipython",
    "version": 3
   },
   "file_extension": ".py",
   "mimetype": "text/x-python",
   "name": "python",
   "nbconvert_exporter": "python",
   "pygments_lexer": "ipython3",
   "version": "3.6.7"
  }
 },
 "nbformat": 4,
 "nbformat_minor": 2
}
