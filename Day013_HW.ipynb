{
 "cells": [
  {
   "cell_type": "markdown",
   "metadata": {},
   "source": [
    "# PTT 網路爬蟲實作練習\n",
    "\n",
    "\n",
    "* 能夠利用 Request + BeatifulSour 撰寫爬蟲，並存放到合適的資料結構\n"
   ]
  },
  {
   "cell_type": "markdown",
   "metadata": {},
   "source": [
    "## 作業目標\n",
    "\n",
    "根據範例 ，完成以下問題：\n",
    "\n",
    "* ① 印出最新文章的「作者」「標題」「時間」\n",
    "* ② 印出第一頁所有文章的「作者」「標題」「時間」\n"
   ]
  },
  {
   "cell_type": "markdown",
   "metadata": {},
   "source": [
    "### ① 印出最新文章的「作者」「標題」「時間」"
   ]
  },
  {
   "cell_type": "code",
   "execution_count": 2,
   "metadata": {},
   "outputs": [
    {
     "data": {
      "text/plain": [
       "<div class=\"r-ent\">\n",
       "<div class=\"nrec\"><span class=\"hl f3\">13</span></div>\n",
       "<div class=\"title\">\n",
       "<a href=\"/bbs/NBA/M.1593353964.A.17F.html\">[討論] 1998年的公牛也沒爛到哪去吧？</a>\n",
       "</div>\n",
       "<div class=\"meta\">\n",
       "<div class=\"author\">ak658865</div>\n",
       "<div class=\"article-menu\">\n",
       "<div class=\"trigger\">⋯</div>\n",
       "<div class=\"dropdown\">\n",
       "<div class=\"item\"><a href=\"/bbs/NBA/search?q=thread%3A%5B%E8%A8%8E%E8%AB%96%5D+1998%E5%B9%B4%E7%9A%84%E5%85%AC%E7%89%9B%E4%B9%9F%E6%B2%92%E7%88%9B%E5%88%B0%E5%93%AA%E5%8E%BB%E5%90%A7%EF%BC%9F\">搜尋同標題文章</a></div>\n",
       "<div class=\"item\"><a href=\"/bbs/NBA/search?q=author%3Aak658865\">搜尋看板內 ak658865 的文章</a></div>\n",
       "</div>\n",
       "</div>\n",
       "<div class=\"date\"> 6/28</div>\n",
       "<div class=\"mark\"></div>\n",
       "</div>\n",
       "</div>"
      ]
     },
     "execution_count": 2,
     "metadata": {},
     "output_type": "execute_result"
    }
   ],
   "source": [
    "import requests\n",
    "from bs4 import BeautifulSoup\n",
    "\n",
    "url = 'https://www.ptt.cc/bbs/NBA/index.html'\n",
    "r = requests.get(url)\n",
    "\n",
    "soup = BeautifulSoup(r.text, \"html.parser\")\n",
    "\n",
    "soup.find(class_=\"r-ent\")"
   ]
  },
  {
   "cell_type": "code",
   "execution_count": 4,
   "metadata": {},
   "outputs": [
    {
     "name": "stdout",
     "output_type": "stream",
     "text": [
      "作者:  ak658865 ,時間:   6/28 \n",
      "[討論] 1998年的公牛也沒爛到哪去吧？\n",
      "\n"
     ]
    }
   ],
   "source": [
    "i = soup.find(class_='r-ent')\n",
    "print('作者: ', i.find(class_='author').text, ',時間: ', i.find(class_='date').text,  i.find(class_='title').text)"
   ]
  },
  {
   "cell_type": "markdown",
   "metadata": {},
   "source": [
    "### ② 印出第一頁所有文章的「作者」「標題」「時間」"
   ]
  },
  {
   "cell_type": "code",
   "execution_count": 8,
   "metadata": {},
   "outputs": [
    {
     "name": "stdout",
     "output_type": "stream",
     "text": [
      "作者: ak658865 標題: \n",
      "[討論] 1998年的公牛也沒爛到哪去吧？\n",
      " 時間:  6/28\n",
      "作者: willy911006 標題: \n",
      "[情報] W.Chandler不打 ，籃網補簽J.Anderson\n",
      " 時間:  6/29\n",
      "作者: pneumo 標題: \n",
      "[情報] 狀元熱門Anthony Edwards與Klutch Sports\n",
      " 時間:  6/29\n",
      "作者: SkyReaching 標題: \n",
      "Re: [討論] 為啥這季沒有人在說世紀最大團了\n",
      " 時間:  6/29\n",
      "作者: Yui5 標題: \n",
      "[新聞] 格林為學生運動員發聲 詹皇讚他絕不閉嘴\n",
      " 時間:  6/29\n",
      "作者: ckny 標題: \n",
      "[情報] 勇士菜鳥初見勇士大哥:Curry直接罵髒話\n",
      " 時間:  6/29\n",
      "作者: dro001 標題: \n",
      "[討論] 鉛筆+西門能達到當年俠客+一分錢的高度嗎\n",
      " 時間:  6/29\n",
      "作者: pneumo 標題: \n",
      "[花邊] Ja Morant想在球衣背後上寫\"FUCK\" \n",
      " 時間:  6/29\n",
      "作者: thnlkj0665 標題: \n",
      "[花邊] 捲髮造型引網友調侃  泰托姆大方自我解嘲\n",
      " 時間:  6/29\n",
      "作者: ckny 標題: \n",
      "[專欄] 女粉拔智齒問:為什麼Manu又禿又要退休？\n",
      " 時間:  6/29\n",
      "作者: thnlkj0665 標題: \n",
      "[情報] 13年前的今天: Greg Oden 成為選秀狀元\n",
      " 時間:  6/29\n",
      "作者: derekhsu 標題: \n",
      "Re: [討論] 鉛筆+西門能達到當年俠客+一分錢的高度嗎\n",
      " 時間:  6/29\n",
      "作者: Wojnarowski 標題: \n",
      "[情報] 湖人預計將簽下J.R. Smith\n",
      " 時間:  6/30\n",
      "作者: Bainite 標題: \n",
      "[情報] Jordan Bell跟騎士簽2年約\n",
      " 時間:  6/30\n",
      "作者: - 標題: \n",
      "\t\t\t\n",
      "\t\t\t\t(本文已被刪除) [karta1992560]\n",
      "\t\t\t\n",
      "\t\t\t 時間:  6/30\n",
      "作者: kent0405 標題: \n",
      "[情報] Spencer Dinwiddie確診\n",
      " 時間:  6/30\n",
      "作者: Yui5 標題: \n",
      "[新聞] 與詹皇爭執留不良影響 前隊友稱厄文還在\n",
      " 時間:  6/30\n",
      "作者: ghost069 標題: \n",
      "[情報] DeAndre Jordan確診\n",
      " 時間:  6/30\n",
      "作者: bcwang28 標題: \n",
      "[情報] 拓荒者預計簽下Jaylen Adams\n",
      " 時間:  6/30\n",
      "作者: VeryGoodBoy 標題: \n",
      "[新聞] 雷納德搶七絕殺應不算 76人前鋒：他先走\n",
      " 時間:  6/30\n",
      "作者: Vedan 標題: \n",
      "[公告] 板規v6.8\n",
      " 時間:  5/24\n",
      "作者: qazwsx879345 標題: \n",
      "[公告] 版主上任相關事項 \n",
      " 時間: 10/25\n",
      "作者: Acetoxy 標題: \n",
      "[情報] SEASON Schedule 賽程 March 19–20\n",
      " 時間:  3/02\n",
      "作者: Vedan 標題: \n",
      "[公告] 第一次被退文，可在三天後刪除退文\n",
      " 時間:  3/09\n",
      "作者: Vedan 標題: \n",
      "[公告] 板務說明 (發錢)\n",
      " 時間:  4/03\n"
     ]
    }
   ],
   "source": [
    "for i in soup.find_all(class_='r-ent'):\n",
    "    print('作者:', i.find(class_='author').text, '標題:', i.find(class_='title').text, '時間:', i.find(class_='date').text)"
   ]
  },
  {
   "cell_type": "markdown",
   "metadata": {},
   "source": [
    "### ③ 試著爬爬看其他版的文章"
   ]
  },
  {
   "cell_type": "code",
   "execution_count": 9,
   "metadata": {},
   "outputs": [
    {
     "name": "stdout",
     "output_type": "stream",
     "text": [
      "作者: sp89005 標題: \n",
      "Re: [閒聊] 認真問刀劍神域是什麼類型的作品\n",
      " 時間:  6/29\n",
      "作者: qazxsw123 標題: \n",
      "[閒聊] 認真問刀劍神域是什麼類型的作品\n",
      " 時間:  6/27\n",
      "作者: TCPai 標題: \n",
      "[推薦] 刀劍神域WoU上半季：主角換人就是讚！\n",
      " 時間:  6/27\n",
      "作者: ll6a 標題: \n",
      "[閒聊] 加速跟刀劍神域為啥都沒大叔操控正妹\n",
      " 時間:  6/27\n",
      "作者: paulabxz123 標題: \n",
      "[討論] 刀劍神域這卡通紅在哪？\n",
      " 時間:  6/26\n",
      "作者: wz02022 標題: \n",
      "[問題] 為什麼刀劍神域的小愛麗絲人氣不高?\n",
      " 時間:  6/23\n",
      "作者: MrSatan 標題: \n",
      "Re: [推投] 刀劍神域 最想交往女性對象? 1票 投票結果\n",
      " 時間:  6/22\n",
      "作者: MrSatan 標題: \n",
      "Re: [推投] 刀劍神域 最想交往女性對象? 1票 催票\n",
      " 時間:  6/20\n",
      "作者: tmac012004 標題: \n",
      "[閒聊] 刀劍神域 決戰黑木崖\n",
      " 時間:  6/20\n",
      "作者: seiya2000 標題: \n",
      "Re: [推投] 刀劍神域 最想交往女性對象? 1票\n",
      " 時間:  6/17\n",
      "作者: MrSatan 標題: \n",
      "[推投] 刀劍神域 最想交往女性對象? 1票\n",
      " 時間:  6/17\n",
      "作者: three88720 標題: \n",
      "[討論] 神崎紫電會怎麼寫刀劍神域\n",
      " 時間:  6/10\n",
      "作者: nanachi 標題: \n",
      "[閒聊] 刀劍神域在歐美那邊人氣還蠻高?\n",
      " 時間:  6/08\n",
      "作者: a235477919 標題: \n",
      "Re: [情報]  傳說對決x刀劍神域合作決定\n",
      " 時間:  6/06\n",
      "作者: a86425380 標題: \n",
      "[情報]  傳說對決x刀劍神域合作決定\n",
      " 時間:  6/06\n",
      "作者: a86425380 標題: \n",
      "[問題] 刀劍神域為什麼在巴哈那麼黑\n",
      " 時間:  5/30\n",
      "作者: panpiano 標題: \n",
      "[創作]《刀劍神域》OP1 鋼琴演奏分享\n",
      " 時間:  5/30\n",
      "作者: ZongKenGG 標題: \n",
      "[閒聊] 如果刀劍神域的主角是金布拉德雷\n",
      " 時間:  5/26\n",
      "作者: dzwei 標題: \n",
      "[閒聊] 雷 當刀劍神域S2看到最後一級有什麼感受?\n",
      " 時間:  5/22\n",
      "作者: sfcrom2002 標題: \n",
      "[閒聊] 刀劍神域 ADAMAS 樂團中文翻唱\n",
      " 時間:  5/22\n"
     ]
    }
   ],
   "source": [
    "url = 'https://www.ptt.cc/bbs/C_Chat/search?q=%E5%88%80%E5%8A%8D%E7%A5%9E%E5%9F%9F'\n",
    "r = requests.get(url)\n",
    "soup = BeautifulSoup(r.text, \"html.parser\")\n",
    "\n",
    "for i in soup.find_all(class_='r-ent'):\n",
    "    print('作者:', i.find(class_='author').text, '標題:', i.find(class_='title').text, '時間:', i.find(class_='date').text)"
   ]
  }
 ],
 "metadata": {
  "kernelspec": {
   "display_name": "Python 3",
   "language": "python",
   "name": "python3"
  },
  "language_info": {
   "codemirror_mode": {
    "name": "ipython",
    "version": 3
   },
   "file_extension": ".py",
   "mimetype": "text/x-python",
   "name": "python",
   "nbconvert_exporter": "python",
   "pygments_lexer": "ipython3",
   "version": "3.6.7"
  }
 },
 "nbformat": 4,
 "nbformat_minor": 2
}
