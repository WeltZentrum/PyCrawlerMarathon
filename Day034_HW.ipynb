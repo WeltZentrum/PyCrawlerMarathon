{
 "cells": [
  {
   "cell_type": "markdown",
   "metadata": {
    "colab_type": "text",
    "id": "I8CoX4R7VoCd"
   },
   "source": [
    "# 反爬：代理伺服器/IP\n",
    "\n",
    "* 了解「IP 黑/白名單」的反爬蟲機制\n",
    "* 「IP 黑/白名單」反爬蟲的因應策略"
   ]
  },
  {
   "cell_type": "markdown",
   "metadata": {
    "colab_type": "text",
    "id": "n-3DZ_r5VoCe"
   },
   "source": [
    "## 作業目標\n",
    "\n",
    "* 目前程式中的 proxy_ips 是手動輸入的，請根據 https://free-proxy-list.net/ 寫一個可自動化抓取可用 Proxy 的 proxy_ips。\n",
    "\n",
    "\n"
   ]
  },
  {
   "cell_type": "code",
   "execution_count": 1,
   "metadata": {
    "colab": {},
    "colab_type": "code",
    "id": "iny-9heBVoCf"
   },
   "outputs": [],
   "source": [
    "import random\n",
    "import requests\n",
    "from bs4 import BeautifulSoup\n",
    "\n",
    "proxy_ips = []\n",
    "\n",
    "url = 'https://free-proxy-list.net/'\n",
    "headers = {'user-agent': 'my-app/0.0.1'}\n",
    "r = requests.get(url, headers=headers)\n",
    "soup = BeautifulSoup(r.text, 'lxml')"
   ]
  },
  {
   "cell_type": "code",
   "execution_count": 2,
   "metadata": {},
   "outputs": [
    {
     "name": "stdout",
     "output_type": "stream",
     "text": [
      "88.99.10.248:1080\n",
      "54.38.218.209:6582\n",
      "180.183.26.152:3128\n",
      "191.103.219.225:48612\n",
      "181.118.167.104:80\n"
     ]
    }
   ],
   "source": [
    "proxylist = soup.find('table', id='proxylist')\n",
    "table = soup.find('tbody')\n",
    "\n",
    "for tr in table.find_all('tr'):\n",
    "    tds = tr.find_all('td') \n",
    "    proxy_ips.append(tds[0].text + ':' + tds[1].text)\n",
    "\n",
    "for ip in proxy_ips[:5]:\n",
    "    print(ip)"
   ]
  },
  {
   "cell_type": "code",
   "execution_count": 3,
   "metadata": {
    "colab": {},
    "colab_type": "code",
    "id": "75dIsHjiVoCi"
   },
   "outputs": [
    {
     "name": "stdout",
     "output_type": "stream",
     "text": [
      "Use 85.10.219.100:1080\n",
      "Fail\n",
      "Use 177.126.216.149:60375\n",
      "Fail\n",
      "Use 88.99.10.250:1080\n",
      "Fail\n",
      "Use 51.15.157.95:5836\n",
      "Fail\n",
      "Use 51.15.73.73:3128\n",
      "Fail\n",
      "Use 51.158.163.185:3128\n",
      "Fail\n",
      "Use 91.207.238.107:56288\n",
      "Fail\n",
      "Use 75.80.242.9:41007\n",
      "Fail\n",
      "Use 161.202.226.194:8123\n",
      "Fail\n",
      "Use 51.222.12.136:8080\n",
      "Fail\n"
     ]
    }
   ],
   "source": [
    "for i in range(10):\n",
    "    ip = random.choice(proxy_ips)\n",
    "    print('Use', ip)\n",
    "    try:\n",
    "        resp = requests.get('http://ip.filefab.com/index.php',\n",
    "                        proxies={'http': ip, 'https': ip}, timeout=10)\n",
    "        soup = BeautifulSoup(resp.text, 'html5lib')\n",
    "        print(soup.find('h1', id='ipd').text.strip())\n",
    "    except:\n",
    "        print('Fail')"
   ]
  }
 ],
 "metadata": {
  "colab": {
   "name": "homework.ipynb",
   "provenance": []
  },
  "kernelspec": {
   "display_name": "Python 3",
   "language": "python",
   "name": "python3"
  },
  "language_info": {
   "codemirror_mode": {
    "name": "ipython",
    "version": 3
   },
   "file_extension": ".py",
   "mimetype": "text/x-python",
   "name": "python",
   "nbconvert_exporter": "python",
   "pygments_lexer": "ipython3",
   "version": "3.6.7"
  }
 },
 "nbformat": 4,
 "nbformat_minor": 1
}
